{
  "nbformat": 4,
  "nbformat_minor": 0,
  "metadata": {
    "colab": {
      "provenance": []
    },
    "kernelspec": {
      "name": "python3",
      "display_name": "Python 3"
    },
    "language_info": {
      "name": "python"
    },
    "accelerator": "GPU",
    "gpuClass": "standard"
  },
  "cells": [
    {
      "cell_type": "code",
      "execution_count": 1,
      "metadata": {
        "id": "ECSd0B7BXYsg",
        "colab": {
          "base_uri": "https://localhost:8080/"
        },
        "outputId": "ce3f3aa8-7d95-4e71-8107-cd5a1c5fb708"
      },
      "outputs": [
        {
          "output_type": "stream",
          "name": "stdout",
          "text": [
            "Mounted at /content/drive\n"
          ]
        }
      ],
      "source": [
        "from google.colab import drive\n",
        "drive.mount('/content/drive')"
      ]
    },
    {
      "cell_type": "markdown",
      "source": [
        "Import necessary libraries here"
      ],
      "metadata": {
        "id": "8F-TqctD1Fes"
      }
    },
    {
      "cell_type": "code",
      "source": [
        "import torch\n",
        "from torch import nn\n",
        "import torch.nn.functional as f\n",
        "import torchvision\n",
        "from torchvision import datasets, models, transforms\n",
        "import torchvision.transforms as tfs\n",
        "from torch.utils.data import DataLoader\n",
        "from torch.autograd import Variable\n",
        "import torchvision.models as models\n",
        "import numpy as np\n",
        "import os\n",
        "from PIL import Image\n",
        "import matplotlib.pyplot as plt\n",
        "from datetime import datetime\n",
        "\n",
        "\n",
        "print(\"PyTorch Version: \",torch.__version__)\n",
        "print(\"Torchvision Version: \",torchvision.__version__)\n",
        "# Detect if we have a GPU available\n",
        "device = torch.device(\"cuda:0\" if torch.cuda.is_available() else \"cpu\")\n",
        "if torch.cuda.is_available():\n",
        "  print(\"Using the GPU!\")\n",
        "else:\n",
        "  print(\"WARNING: Could not find GPU! Using CPU only. If you want to enable GPU, please to go Edit > Notebook Settings > Hardware Accelerator and select GPU.\")"
      ],
      "metadata": {
        "id": "8QStjcukXfqK",
        "colab": {
          "base_uri": "https://localhost:8080/"
        },
        "outputId": "7a858d8c-5668-493c-e149-b7f4296d20f4"
      },
      "execution_count": 2,
      "outputs": [
        {
          "output_type": "stream",
          "name": "stdout",
          "text": [
            "PyTorch Version:  1.13.0+cu116\n",
            "Torchvision Version:  0.14.0+cu116\n",
            "Using the GPU!\n"
          ]
        }
      ]
    },
    {
      "cell_type": "markdown",
      "source": [
        "Old VOC:"
      ],
      "metadata": {
        "id": "usKVj-7wX8W5"
      }
    },
    {
      "cell_type": "markdown",
      "source": [
        "Download PASCAL VOC 2012 Dataset"
      ],
      "metadata": {
        "id": "6tl7gdgV1L7S"
      }
    },
    {
      "cell_type": "code",
      "source": [
        "!wget https://pjreddie.com/media/files/VOCtrainval_11-May-2012.tar\n",
        "!tar -xvf VOCtrainval_11-May-2012.tar"
      ],
      "metadata": {
        "id": "KKMSzgX-bPUq"
      },
      "execution_count": null,
      "outputs": []
    },
    {
      "cell_type": "code",
      "source": [
        "voc_root = \"/content/VOCdevkit/VOC2012\"\n",
        "\n",
        "def read_images(root=voc_root, train=True):\n",
        "    txt_file_add = root + '/ImageSets/Segmentation/' + ('train.txt' if train else 'val.txt')\n",
        "    with open(txt_file_add, 'r') as f:\n",
        "        images = f.read().split()\n",
        "    img = [os.path.join(root, 'JPEGImages', i+'.jpg') for i in images]\n",
        "    label = [os.path.join(root, 'SegmentationClass', i+'.png') for i in images]\n",
        "    return img, label\n"
      ],
      "metadata": {
        "id": "f4-cSx4GYsU2"
      },
      "execution_count": 4,
      "outputs": []
    },
    {
      "cell_type": "markdown",
      "source": [
        "Aug VOC:"
      ],
      "metadata": {
        "id": "DLKf3F9EX_KD"
      }
    },
    {
      "cell_type": "markdown",
      "source": [
        "This part is used to download VOC2012 Aug dataset if needed."
      ],
      "metadata": {
        "id": "o1kT8Jr11RRl"
      }
    },
    {
      "cell_type": "code",
      "source": [
        "# !unzip \"/content/drive/MyDrive/FCN/Data_set/VOC2012Aug.zip\" -d \"/content/VOC2012Aug/\""
      ],
      "metadata": {
        "id": "GdAjW-ZgYAlA"
      },
      "execution_count": null,
      "outputs": []
    },
    {
      "cell_type": "code",
      "source": [
        "# voc_root = \"/content/VOC2012Aug\"\n",
        "\n",
        "# def read_images(root=voc_root, train=True):\n",
        "#     txt_file_add = root + ('/train.txt' if train else '/val.txt')\n",
        "#     with open(txt_file_add, 'r') as f:\n",
        "#         images = f.read().split()\n",
        "#     img = [os.path.join(root, 'img', i+'.jpg') for i in images]\n",
        "#     label = [os.path.join(root, 'cls_aug_png', i+'.png') for i in images]\n",
        "#     return img, label"
      ],
      "metadata": {
        "id": "LeCQYJU2Yn71"
      },
      "execution_count": null,
      "outputs": []
    },
    {
      "cell_type": "markdown",
      "source": [
        "Define crop function and random crop function to increase diveristy of images"
      ],
      "metadata": {
        "id": "yJHRz2wy60Ht"
      }
    },
    {
      "cell_type": "code",
      "source": [
        "def crop(img, label, height, width):\n",
        "    \"\"\"\n",
        "    data and label are image\n",
        "    \"\"\"\n",
        "    box = (0, 0, width, height)\n",
        "    img = img.crop(box)\n",
        "    label = label.crop(box)\n",
        "    return img, label"
      ],
      "metadata": {
        "id": "sfWGsGSIcsg3"
      },
      "execution_count": 5,
      "outputs": []
    },
    {
      "cell_type": "code",
      "source": [
        "# Random crop image and label\n",
        "def voc_rand_crop(image, label, height, width):\n",
        "    i, j, h, w = transforms.RandomCrop.get_params(\n",
        "        image, output_size=(height, width))\n",
        "    # Use crop function to resize the images and their labels\n",
        "    image = transforms.functional.crop(image, i, j, h, w)\n",
        "    label = transforms.functional.crop(label, i, j, h, w)\n",
        "\n",
        "    return image, label"
      ],
      "metadata": {
        "id": "orjyvE3tOECC"
      },
      "execution_count": 6,
      "outputs": []
    },
    {
      "cell_type": "markdown",
      "source": [
        "Label classes matrix and colormap is defined here."
      ],
      "metadata": {
        "id": "6UU94rKC1jDP"
      }
    },
    {
      "cell_type": "code",
      "source": [
        "# Label classes matrix\n",
        "classes = ['background','aeroplane','bicycle','bird','boat',\n",
        "           'bottle','bus','car','cat','chair','cow','diningtable',\n",
        "           'dog','horse','motorbike','person','potted plant',\n",
        "           'sheep','sofa','train','tv/monitor']\n",
        "\n",
        "# Label classes RGB values matrix\n",
        "colormap = [[0,0,0],[128,0,0],[0,128,0], [128,128,0], [0,0,128],\n",
        "            [128,0,128],[0,128,128],[128,128,128],[64,0,0],[192,0,0],\n",
        "            [64,128,0],[192,128,0],[64,0,128],[192,0,128],\n",
        "            [64,128,128],[192,128,128],[0,64,0],[128,64,0],\n",
        "            [0,192,0],[128,192,0],[0,64,128]]"
      ],
      "metadata": {
        "id": "pNMLsZr7dOaQ"
      },
      "execution_count": 7,
      "outputs": []
    },
    {
      "cell_type": "code",
      "source": [
        "# Create a mapping from RGB values to labels\n",
        "rgb_to_label = np.zeros(256**3)\n",
        "\n",
        "# Populate the mapping using the colormap\n",
        "for pos, color in enumerate(colormap):\n",
        "    # Compute the index in the rgb_to_label array for this color\n",
        "    index = (color[0]*256 + color[1])*256 + color[2]\n",
        "    rgb_to_label[index] = pos\n",
        "\n",
        "def map_image_to_label(image):\n",
        "    \"\"\"\n",
        "    Maps an image with a colormap to a label map.\n",
        "    \n",
        "    Parameters:\n",
        "        image (np.ndarray): The image with a colormap.\n",
        "        \n",
        "    Returns:\n",
        "        np.ndarray: The label map corresponding to the input image.\n",
        "    \"\"\"\n",
        "    # Convert the image to an integer array\n",
        "    image_data = np.array(image, dtype=\"int32\")\n",
        "    # Compute the index in the rgb_to_label array for each pixel in the image\n",
        "    indices = (image_data[:,:,0]*256 + image_data[:,:,1])*256 + image_data[:,:,2]\n",
        "    # Map the indices to labels using the rgb_to_label array\n",
        "    return np.array(rgb_to_label[indices], dtype=\"int64\")"
      ],
      "metadata": {
        "id": "4cIUj9m3GaSW"
      },
      "execution_count": 8,
      "outputs": []
    },
    {
      "cell_type": "code",
      "source": [
        "def image_transforms(image, label, height, width):\n",
        "    image, label = voc_rand_crop(image, label, height, width)\n",
        "    # Normalize the input image\n",
        "    img_transforms = transforms.Compose([\n",
        "        transforms.ToTensor(),\n",
        "        transforms.Normalize([0.485, 0.456, 0.406], [0.229, 0.224, 0.225])\n",
        "    ])\n",
        "    \n",
        "    image = img_transforms(image)\n",
        "    label = map_image_to_label(label)\n",
        "    label = torch.from_numpy(label)\n",
        "    return image, label"
      ],
      "metadata": {
        "id": "7O-mMug5dXEz"
      },
      "execution_count": 9,
      "outputs": []
    },
    {
      "cell_type": "markdown",
      "source": [
        "Define VOCDataset"
      ],
      "metadata": {
        "id": "DJJB0_dN1zBk"
      }
    },
    {
      "cell_type": "code",
      "source": [
        "class VOCDataset(torch.utils.data.Dataset):\n",
        "    \n",
        "    def __init__(self, train, transforms, crop_size = (224, 224)):\n",
        "        self.filtered_num = 0    # Count the image being filtered\n",
        "        self.crop_size = crop_size #Crop size needed\n",
        "        self.transforms = transforms\n",
        "        img_list, label_list = read_images(train=train)\n",
        "        self.img_list = self.filter(img_list)\n",
        "        self.label_list = self.filter(label_list)\n",
        "        if(train==True):\n",
        "            print(\"Train: Load \" + str(len(self.img_list)) + \" pictures and label\" + \"Filtered: \" + str(self.filtered_num) + \" pictures\")\n",
        "        else:\n",
        "            print(\"Val：Load \" + str(len(self.img_list)) + \" pictures and label\" + \"Filtered: \" + str(self.filtered_num) + \" pictures\")\n",
        "        \n",
        "    \n",
        "    # Filter those images whose size is smaller than fixed size\n",
        "    def filter(self, images):\n",
        "      image_lst = []\n",
        "      for image_path in images:\n",
        "        image = Image.open(image_path)\n",
        "        size = image.size\n",
        "        if size[1] >= self.crop_size[0] and size[0] >= self.crop_size[1]:\n",
        "          image_lst.append(image_path)\n",
        "        else:\n",
        "          self.filtered_num += 1\n",
        "      return image_lst\n",
        "    \n",
        "    def __getitem__(self, idx):\n",
        "        img = self.img_list[idx]\n",
        "        label = self.label_list[idx]\n",
        "        img = Image.open(img)\n",
        "        label = Image.open(label).convert('RGB')\n",
        "        img, label = self.transforms(img, label, self.crop_size[0], self.crop_size[1])\n",
        "        return img, label\n",
        "    \n",
        "    def __len__(self):\n",
        "        return len(self.img_list)"
      ],
      "metadata": {
        "id": "8cE5CohVdbWb"
      },
      "execution_count": 23,
      "outputs": []
    },
    {
      "cell_type": "code",
      "source": [
        "voc_train = VOCDataset(True, image_transforms)\n",
        "voc_test = VOCDataset(False, image_transforms)\n",
        "\n",
        "train_data = DataLoader(voc_train, batch_size=8, shuffle=True)\n",
        "valid_data = DataLoader(voc_test, batch_size=8)"
      ],
      "metadata": {
        "colab": {
          "base_uri": "https://localhost:8080/"
        },
        "id": "OKQdyvaMdeN1",
        "outputId": "c38e6613-afc5-4166-fe63-1a687a132d3e"
      },
      "execution_count": 24,
      "outputs": [
        {
          "output_type": "stream",
          "name": "stdout",
          "text": [
            "Train: Load 1456 pictures and labelFiltered: 16 pictures\n",
            "Val：Load 1436 pictures and labelFiltered: 26 pictures\n"
          ]
        }
      ]
    },
    {
      "cell_type": "code",
      "source": [
        "# Used to initialize ConvTrans' weight\n",
        "def bilinear_kernel(in_channels, out_channels, kernel_size):\n",
        "    factor = (kernel_size + 1) // 2\n",
        "    if kernel_size % 2 == 1:\n",
        "        center = factor - 1\n",
        "    else:\n",
        "        center = factor - 0.5\n",
        "    og = np.ogrid[:kernel_size, :kernel_size]\n",
        "    filt = (1 - abs(og[0] - center) / factor) * (1 - abs(og[1] - center) / factor)\n",
        "    weight = np.zeros((in_channels, out_channels, kernel_size, kernel_size),\n",
        "                      dtype='float32')\n",
        "    weight[range(in_channels), range(out_channels), :, :] = filt\n",
        "    return torch.from_numpy(np.array(weight))"
      ],
      "metadata": {
        "id": "DoKKfoNSdg1a"
      },
      "execution_count": 25,
      "outputs": []
    },
    {
      "cell_type": "code",
      "source": [
        "# Load pretrained resnet34 weight\n",
        "model_root = \"/content/drive/MyDrive/FCN/RESNET34_pretrained/resnet34-333f7ec4.pth\"\n",
        "resnet_weight = models.resnet34()\n",
        "pre_weight = torch.load(model_root)\n",
        "resnet_weight.load_state_dict(pre_weight)\n",
        "# Class Number\n",
        "num_classes = len(classes)"
      ],
      "metadata": {
        "id": "1K2RVbGVdif6"
      },
      "execution_count": 26,
      "outputs": []
    },
    {
      "cell_type": "markdown",
      "source": [
        "Define FCN main body here."
      ],
      "metadata": {
        "id": "XkX_ZPIL4LP-"
      }
    },
    {
      "cell_type": "code",
      "source": [
        "class fcn(nn.Module):\n",
        "    def __init__(self, num_classes):\n",
        "        super(fcn, self).__init__()\n",
        "        \n",
        "        self.stage1 = nn.Sequential(*list(resnet_weight.children())[:-4]) \n",
        "        self.stage2 = list(resnet_weight.children())[-4] \n",
        "        self.stage3 = list(resnet_weight.children())[-3] \n",
        "        \n",
        "        self.dimredu1 = nn.Conv2d(512, num_classes, 1)\n",
        "        self.dimredu2 = nn.Conv2d(256, num_classes, 1)\n",
        "        self.dimredu3 = nn.Conv2d(128, num_classes, 1)\n",
        "        \n",
        "        # upsample 8 times\n",
        "        self.upsample_8x = nn.ConvTranspose2d(num_classes, num_classes, kernel_size=16, stride=8, padding=4, bias=False)\n",
        "        self.upsample_8x.weight.data = bilinear_kernel(num_classes, num_classes, 16) # bilinear_kernel kernel\n",
        "        # upsample 4 times\n",
        "        self.upsample_4x = nn.ConvTranspose2d(num_classes, num_classes, kernel_size=4, stride=2, padding=1, bias=False)\n",
        "        self.upsample_4x.weight.data = bilinear_kernel(num_classes, num_classes, 4) # bilinear_kernel kernel\n",
        "        # upsample 2 times\n",
        "        self.upsample_2x = nn.ConvTranspose2d(num_classes, num_classes, kernel_size=4, stride=2, padding=1, bias=False)   \n",
        "        self.upsample_2x.weight.data = bilinear_kernel(num_classes, num_classes, 4) # bilinear_kernel kernel\n",
        "\n",
        "        \n",
        "    def forward(self, x):\n",
        "        x = self.stage1(x)\n",
        "        stage1_output = x \n",
        "        x = self.stage2(x)\n",
        "        stage2_output = x \n",
        "        x = self.stage3(x)\n",
        "        stage3_output = x \n",
        "        \n",
        "        stage3_output = self.dimredu1(stage3_output)     \n",
        "        stage3_output = self.upsample_2x(stage3_output) \n",
        "        stage2_output = self.dimredu2(stage2_output)\n",
        "        # Combine upsampled S3 with s2\n",
        "        stage2_output = stage2_output + stage3_output \n",
        "        \n",
        "        stage1_output = self.dimredu3(stage1_output)\n",
        "        stage2_output = self.upsample_4x(stage2_output)\n",
        "        final_pre_logit = stage1_output + stage2_output\n",
        " \n",
        "        final_pre_logit = self.upsample_8x(final_pre_logit)   \n",
        "        return final_pre_logit"
      ],
      "metadata": {
        "id": "IZhqRRMMef20"
      },
      "execution_count": 37,
      "outputs": []
    },
    {
      "cell_type": "markdown",
      "source": [
        "Compute accuracy using Confusion Matrix"
      ],
      "metadata": {
        "id": "ArlFxQjp4QxJ"
      }
    },
    {
      "cell_type": "code",
      "source": [
        "# Evaluate the accuracy, inspired by wkentaro's pytorch-fcn\n",
        "# https://github.com/wkentaro/pytorch-fcn/blob/main/torchfcn/utils.py\n",
        "def _fast_hist(label_true, label_pred, n_class):\n",
        "    mask = (label_true >= 0) & (label_true < n_class)\n",
        "    \"\"\"\n",
        "    mask filter out the valid pixels in label_true\n",
        "    label_true[mask] gives the true label of each pixels\n",
        "    label_pred[mask] gives the predicted label of each pixels\n",
        "    n_class * label_true[mask].astype(int) + label_pred[mask] stores n_class * true label + pred label for each pixel\n",
        "    The combination of each n_class * true label + pred label is assigned with unique combination of one true label and one pred label\n",
        "    np.bincount count the number of these combinations and listed as:\n",
        "    [true_label, pred_label]:\n",
        "    [\n",
        "    0x0+0, 0x0+1, 0x0+2 ... 0x0+num_class,\n",
        "    1x0+0, 1x0+1, 1x0+2 ... 1x0+num_class,\n",
        "    ...\n",
        "    ]\n",
        "    Finally reshape to (n_class, n_class) matrix\n",
        "    \"\"\"\n",
        "    hist = np.bincount(\n",
        "        n_class * label_true[mask].astype(int) +\n",
        "        label_pred[mask], minlength=n_class ** 2).reshape(n_class, n_class)\n",
        "    return hist\n",
        "\n",
        "\"\"\"\n",
        "label_trues Ground Truth\n",
        "label_preds Predicted Labels\n",
        "n_class number of classes\n",
        "\"\"\"\n",
        "def label_accuracy_score(label_trues, label_preds, n_class):\n",
        "    \"\"\"Returns accuracy score evaluation result.\n",
        "      - overall accuracy\n",
        "      - mean IoU\n",
        "    \"\"\"\n",
        "    hist = np.zeros((n_class, n_class))\n",
        "    for lt, lp in zip(label_trues, label_preds):\n",
        "      hist += _fast_hist(lt.flatten(), lp.flatten(), n_class)\n",
        "    \n",
        "    \"\"\"\n",
        "    acc: Pixel accuracy\n",
        "    mean_iu: Mean IoU\n",
        "    \"\"\"\n",
        "    acc = np.diag(hist).sum() / hist.sum()\n",
        "    iu = np.diag(hist) / (hist.sum(axis=1) + hist.sum(axis=0) - np.diag(hist))\n",
        "    mean_iu = np.nanmean(iu)\n",
        "    return acc, mean_iu"
      ],
      "metadata": {
        "id": "Q6mcwpdWepgC"
      },
      "execution_count": 28,
      "outputs": []
    },
    {
      "cell_type": "code",
      "source": [
        "FCN_net = fcn(num_classes)\n",
        "if torch.cuda.is_available():\n",
        "    FCN_net = FCN_net.cuda()\n",
        "criterion = nn.CrossEntropyLoss()\n",
        "optimizer = torch.optim.SGD(FCN_net.parameters(), lr=1e-2, weight_decay=1e-4)"
      ],
      "metadata": {
        "id": "DHlxitoNetMb"
      },
      "execution_count": 39,
      "outputs": []
    },
    {
      "cell_type": "markdown",
      "source": [
        "Training:"
      ],
      "metadata": {
        "id": "GImKgH_f4Vux"
      }
    },
    {
      "cell_type": "code",
      "source": [
        "Epoch = 20\n",
        "\n",
        "train_loss = []\n",
        "train_accuracy = []\n",
        "train_mean_IoU = []\n",
        "\n",
        "valid_loss = []\n",
        "valid_accuracy = []\n",
        "valid_mean_IoU = []\n",
        "\n",
        "\n",
        "for epoch in range(Epoch):\n",
        "    \n",
        "    epoch_train_loss = 0\n",
        "    epoch_train_accuracy = 0\n",
        "    epoch_train_mean_IoU = 0\n",
        "    \n",
        "    FCN_net = FCN_net.train()\n",
        "    for img_data, img_label in train_data:\n",
        "        if torch.cuda.is_available:\n",
        "            im = Variable(img_data).cuda()\n",
        "            label = Variable(img_label).cuda()\n",
        "        else:\n",
        "            im = Variable(img_data)\n",
        "            label = Variable(img_label)\n",
        "\n",
        "        resnet_output = FCN_net(im)\n",
        "        loss = criterion(resnet_output, label)\n",
        "\n",
        "        optimizer.zero_grad()\n",
        "        loss.backward()\n",
        "        optimizer.step()\n",
        "        epoch_train_loss += loss.item()\n",
        "        \n",
        "        label_pred = resnet_output.max(dim=1)[1].data.cpu().numpy()\n",
        "        label_true = label.data.cpu().numpy()\n",
        "\n",
        "        acc, mean_iu = label_accuracy_score(label_true, label_pred, num_classes)\n",
        "        epoch_train_accuracy += acc\n",
        "        epoch_train_mean_IoU += mean_iu\n",
        "    \n",
        "    train_loss.append(epoch_train_loss/len(train_data))\n",
        "    train_accuracy.append(epoch_train_accuracy/len(train_data))\n",
        "    train_mean_IoU.append(epoch_train_mean_IoU/len(train_data))\n",
        "\n",
        "    FCN_net = FCN_net.eval()\n",
        "    \n",
        "    epoch_valid_loss = 0\n",
        "    epoch_valid_accuracy = 0\n",
        "    epoch_valid_mean_IoU = 0\n",
        "    # Turn off grad to save computation\n",
        "    with torch.no_grad():\n",
        "      for img_data, img_label in valid_data:\n",
        "          if torch.cuda.is_available():\n",
        "              im = Variable(img_data).cuda()\n",
        "              label = Variable(img_label).cuda()\n",
        "          else:\n",
        "              im = Variable(img_data)\n",
        "              label = Variable(img_label)\n",
        "          \n",
        "          # forward\n",
        "          resnet_output = FCN_net(im)\n",
        "          loss = criterion(resnet_output, label)\n",
        "          epoch_valid_loss += loss.item()\n",
        "          \n",
        "          label_pred = resnet_output.max(dim=1)[1].data.cpu().numpy()\n",
        "          label_true = label.data.cpu().numpy()\n",
        "       \n",
        "          acc, mean_iu= label_accuracy_score(label_true, label_pred, num_classes)\n",
        "          epoch_valid_accuracy += acc\n",
        "          epoch_valid_mean_IoU += mean_iu\n",
        "\n",
        "    # Record loss for printing\n",
        "    valid_loss.append(epoch_valid_loss/len(valid_data))\n",
        "    valid_accuracy.append(epoch_valid_accuracy/len(valid_data))\n",
        "    valid_mean_IoU.append(epoch_valid_mean_IoU/len(valid_data))\n",
        "\n",
        "    # Print loss for current epoch\n",
        "\n",
        "    epoch_output = ('Epoch: {}, Epoch Train Loss: {:.5f}, Epoch Train Accuracy: {:.5f}, Epoch Train Mean IoU: {:.5f}, \\\n",
        "Epoch Valid Loss: {:.5f}, Epoch Valid Accuracy: {:.5f}, Epoch Valid Mean IoU: {:.5f} '.format(\n",
        "        epoch, train_loss[-1], train_accuracy[-1], train_mean_IoU[-1],\n",
        "        valid_loss[-1], valid_accuracy[-1], valid_mean_IoU[-1]))\n",
        "    print(epoch_output + '\\n')"
      ],
      "metadata": {
        "id": "HMEas7gseue6"
      },
      "execution_count": null,
      "outputs": []
    },
    {
      "cell_type": "markdown",
      "source": [
        "Path: Old VOC Save Model here"
      ],
      "metadata": {
        "id": "_5UoWUv8XYBY"
      }
    },
    {
      "cell_type": "code",
      "source": [
        "# Save Model Params\n",
        "PATH = \"/content/drive/MyDrive/FCN/Logs/FCN.pth\"\n",
        "torch.save(FCN_net.state_dict(), PATH)\n",
        "# Save Model\n",
        "PATH = \"/content/drive/MyDrive/FCN/Logs/FCN_model.pth\"\n",
        "torch.save(FCN_net, PATH)"
      ],
      "metadata": {
        "id": "ZN0BgA7we8aI"
      },
      "execution_count": 31,
      "outputs": []
    },
    {
      "cell_type": "code",
      "source": [
        "FCN_net = torch.load(\"/content/drive/MyDrive/FCN/Logs/FCN_model.pth\")\n",
        "FCN_net.eval()"
      ],
      "metadata": {
        "id": "RTKXOb3dXsmk"
      },
      "execution_count": null,
      "outputs": []
    },
    {
      "cell_type": "markdown",
      "source": [
        "Path: Aug VOC: path to store weight result for Aug VOC dataset"
      ],
      "metadata": {
        "id": "jP-ORz2fXfZs"
      }
    },
    {
      "cell_type": "code",
      "source": [
        "# # Save Model Params\n",
        "# PATH = \"/content/drive/MyDrive/FCN/Logs/Logs_aug/FCN.pth\"\n",
        "# torch.save(FCN_net.state_dict(), PATH)\n",
        "# # Save Model\n",
        "# PATH = \"/content/drive/MyDrive/FCN/Logs/Logs_aug/FCN_model.pth\"\n",
        "# torch.save(FCN_net, PATH)"
      ],
      "metadata": {
        "id": "m9P-CIfwXV-W"
      },
      "execution_count": null,
      "outputs": []
    },
    {
      "cell_type": "code",
      "source": [
        "# FCN_net = torch.load(\"/content/drive/MyDrive/FCN/Logs/Logs_aug/FCN_model.pth\")\n",
        "# FCN_net.eval()"
      ],
      "metadata": {
        "id": "1093Qf_5XuDL"
      },
      "execution_count": null,
      "outputs": []
    },
    {
      "cell_type": "markdown",
      "source": [
        "Use this to output the label needed for final presentation"
      ],
      "metadata": {
        "id": "twBnuXUhwEN0"
      }
    },
    {
      "cell_type": "code",
      "source": [
        "# voc_root = \"/content/VOCdevkit/VOC2012\"\n",
        "\n",
        "# def read_images(root=voc_root):\n",
        "#     txt_file_add = \"/content/drive/MyDrive/FCN/Final_pre_test/needed.txt\"\n",
        "#     with open(txt_file_add, 'r') as f:\n",
        "#         images = f.read().split()\n",
        "#     img = [os.path.join(root, 'JPEGImages', i+'.jpg') for i in images]\n",
        "#     label = [os.path.join(root, 'SegmentationClass', i+'.png') for i in images]\n",
        "#     return img, label"
      ],
      "metadata": {
        "id": "Yn5_yvMi2NcE"
      },
      "execution_count": null,
      "outputs": []
    },
    {
      "cell_type": "markdown",
      "source": [
        "Predict and final demonstration."
      ],
      "metadata": {
        "id": "vr3y8WRU4epn"
      }
    },
    {
      "cell_type": "code",
      "source": [
        "colormaparr = np.array(colormap).astype('uint8')\n",
        "    \n",
        "def predict(img): # Predict the output of FCN\n",
        "    img = img.convert(\"RGB\")\n",
        "    img = tfs.ToTensor()(img)\n",
        "    img = Variable(img.unsqueeze(0)).cuda()\n",
        "    with torch.no_grad():\n",
        "      resnet_output = FCN_net(img)\n",
        "    pred = resnet_output.max(1)[1].squeeze().cpu().data.numpy()\n",
        "    pred = colormaparr[pred]\n",
        "    pred = Image.fromarray(pred)\n",
        "    return pred\n",
        "\n",
        "size = 224\n",
        "num_image = 4\n",
        "_, figs = plt.subplots(num_image, 3, figsize=(9, 9))\n",
        "image_full, label_full = read_images(voc_root)\n",
        "# image_full, label_full = read_images(voc_root, train = False)\n",
        "offset = 0\n",
        "for i in range(num_image):\n",
        "  img_data = Image.open(image_full[i + offset])\n",
        "  label_data = Image.open(label_full[i + offset])\n",
        "  img_data, label_data = crop(img_data, label_data, 416, 416)\n",
        "  pred = predict(img_data)\n",
        "  # pred.save('/content/output image/image_output.jpg')\n",
        "\n",
        "  figs[i, 0].imshow(img_data)\n",
        "  figs[i, 0].axes.get_xaxis().set_visible(False)  \n",
        "  figs[i, 0].axes.get_yaxis().set_visible(False)\n",
        "\n",
        "  figs[i, 1].imshow(label_data)                    \n",
        "  figs[i, 1].axes.get_xaxis().set_visible(False)  \n",
        "  figs[i, 1].axes.get_yaxis().set_visible(False)\n",
        "\n",
        "  figs[i, 2].imshow(pred)                         \n",
        "  figs[i, 2].axes.get_xaxis().set_visible(False)  \n",
        "  figs[i, 2].axes.get_yaxis().set_visible(False) \n",
        "\n",
        "figs[num_image-1, 0].set_title(\"Image\", y=-0.2)\n",
        "figs[num_image-1, 1].set_title(\"Ground Truth\", y=-0.2)\n",
        "figs[num_image-1, 2].set_title(\"FCN Output\", y=-0.2)"
      ],
      "metadata": {
        "colab": {
          "base_uri": "https://localhost:8080/",
          "height": 556
        },
        "id": "y2JdHLMalx1J",
        "outputId": "9b02227f-2004-4d96-cd34-b0fbbb95e0f5"
      },
      "execution_count": 44,
      "outputs": [
        {
          "output_type": "execute_result",
          "data": {
            "text/plain": [
              "Text(0.5, -0.2, 'FCN Output')"
            ]
          },
          "metadata": {},
          "execution_count": 44
        },
        {
          "output_type": "display_data",
          "data": {
            "text/plain": [
              "<Figure size 648x648 with 12 Axes>"
            ],
            "image/png": "[encoded data removed]"
          },
          "metadata": {
            "needs_background": "light"
          }
        }
      ]
    }
  ]
}